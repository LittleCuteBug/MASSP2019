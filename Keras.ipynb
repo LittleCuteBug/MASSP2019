{
  "nbformat": 4,
  "nbformat_minor": 0,
  "metadata": {
    "colab": {
      "name": "Keras.ipynb",
      "version": "0.3.2",
      "provenance": [],
      "collapsed_sections": []
    },
    "kernelspec": {
      "name": "python3",
      "display_name": "Python 3"
    }
  },
  "cells": [
    {
      "cell_type": "code",
      "metadata": {
        "id": "ByzJdah0JOxL",
        "colab_type": "code",
        "colab": {
          "base_uri": "https://localhost:8080/",
          "height": 1000
        },
        "outputId": "ce8b3199-2265-4b21-93b1-45fc898d0e57"
      },
      "source": [
        "import numpy as np \n",
        "from keras.models import Sequential\n",
        "from keras.layers.core import Dense, Activation\n",
        "from keras import optimizers\n",
        "import matplotlib.pyplot as plt\n",
        "\n",
        "# 1. create pseudo data y = 2*x0 + 3*x1 + 4\n",
        "X = np.random.rand(1000, 1)\n",
        "y = 4 + 3 * X + .2*np.random.randn(1000, 1) # noise added\n",
        "\n",
        "# 2. Build model \n",
        "model = Sequential([Dense(1, input_shape = (1,), activation='linear')])\n",
        "\n",
        "# 3. gradient descent optimizer and loss function \n",
        "sgd = optimizers.SGD(lr=0.1)\n",
        "model.compile(loss='mse', optimizer=sgd)\n",
        "\n",
        "# 4. Train the model \n",
        "model.fit(X, y, epochs=100, batch_size=2)"
      ],
      "execution_count": 32,
      "outputs": [
        {
          "output_type": "stream",
          "text": [
            "Epoch 1/100\n",
            "1000/1000 [==============================] - 1s 568us/step - loss: 0.2008\n",
            "Epoch 2/100\n",
            "1000/1000 [==============================] - 0s 404us/step - loss: 0.0435\n",
            "Epoch 3/100\n",
            "1000/1000 [==============================] - 0s 423us/step - loss: 0.0435\n",
            "Epoch 4/100\n",
            "1000/1000 [==============================] - 0s 399us/step - loss: 0.0437\n",
            "Epoch 5/100\n",
            "1000/1000 [==============================] - 0s 386us/step - loss: 0.0434\n",
            "Epoch 6/100\n",
            "1000/1000 [==============================] - 0s 394us/step - loss: 0.0436\n",
            "Epoch 7/100\n",
            "1000/1000 [==============================] - 0s 385us/step - loss: 0.0436\n",
            "Epoch 8/100\n",
            "1000/1000 [==============================] - 0s 388us/step - loss: 0.0434\n",
            "Epoch 9/100\n",
            "1000/1000 [==============================] - 0s 385us/step - loss: 0.0434\n",
            "Epoch 10/100\n",
            "1000/1000 [==============================] - 0s 389us/step - loss: 0.0434\n",
            "Epoch 11/100\n",
            "1000/1000 [==============================] - 0s 405us/step - loss: 0.0441\n",
            "Epoch 12/100\n",
            "1000/1000 [==============================] - 0s 401us/step - loss: 0.0431\n",
            "Epoch 13/100\n",
            "1000/1000 [==============================] - 0s 387us/step - loss: 0.0444\n",
            "Epoch 14/100\n",
            "1000/1000 [==============================] - 0s 401us/step - loss: 0.0432\n",
            "Epoch 15/100\n",
            "1000/1000 [==============================] - 0s 403us/step - loss: 0.0432\n",
            "Epoch 16/100\n",
            "1000/1000 [==============================] - 0s 402us/step - loss: 0.0437\n",
            "Epoch 17/100\n",
            "1000/1000 [==============================] - 0s 391us/step - loss: 0.0436\n",
            "Epoch 18/100\n",
            "1000/1000 [==============================] - 0s 392us/step - loss: 0.0438\n",
            "Epoch 19/100\n",
            "1000/1000 [==============================] - 0s 392us/step - loss: 0.0436\n",
            "Epoch 20/100\n",
            "1000/1000 [==============================] - 0s 386us/step - loss: 0.0433\n",
            "Epoch 21/100\n",
            "1000/1000 [==============================] - 0s 395us/step - loss: 0.0442\n",
            "Epoch 22/100\n",
            "1000/1000 [==============================] - 0s 382us/step - loss: 0.0429\n",
            "Epoch 23/100\n",
            "1000/1000 [==============================] - 0s 383us/step - loss: 0.0434\n",
            "Epoch 24/100\n",
            "1000/1000 [==============================] - 0s 390us/step - loss: 0.0437\n",
            "Epoch 25/100\n",
            "1000/1000 [==============================] - 0s 384us/step - loss: 0.0442\n",
            "Epoch 26/100\n",
            "1000/1000 [==============================] - 0s 391us/step - loss: 0.0429\n",
            "Epoch 27/100\n",
            "1000/1000 [==============================] - 0s 422us/step - loss: 0.0437\n",
            "Epoch 28/100\n",
            "1000/1000 [==============================] - 0s 407us/step - loss: 0.0440\n",
            "Epoch 29/100\n",
            "1000/1000 [==============================] - 0s 408us/step - loss: 0.0440\n",
            "Epoch 30/100\n",
            "1000/1000 [==============================] - 0s 422us/step - loss: 0.0439\n",
            "Epoch 31/100\n",
            "1000/1000 [==============================] - 0s 441us/step - loss: 0.0440\n",
            "Epoch 32/100\n",
            "1000/1000 [==============================] - 0s 418us/step - loss: 0.0429\n",
            "Epoch 33/100\n",
            "1000/1000 [==============================] - 0s 397us/step - loss: 0.0444\n",
            "Epoch 34/100\n",
            "1000/1000 [==============================] - 0s 432us/step - loss: 0.0442\n",
            "Epoch 35/100\n",
            "1000/1000 [==============================] - 0s 408us/step - loss: 0.0441\n",
            "Epoch 36/100\n",
            "1000/1000 [==============================] - 0s 416us/step - loss: 0.0440\n",
            "Epoch 37/100\n",
            "1000/1000 [==============================] - 0s 412us/step - loss: 0.0434\n",
            "Epoch 38/100\n",
            "1000/1000 [==============================] - 0s 406us/step - loss: 0.0439\n",
            "Epoch 39/100\n",
            "1000/1000 [==============================] - 0s 400us/step - loss: 0.0439\n",
            "Epoch 40/100\n",
            "1000/1000 [==============================] - 0s 408us/step - loss: 0.0433\n",
            "Epoch 41/100\n",
            "1000/1000 [==============================] - 0s 398us/step - loss: 0.0442\n",
            "Epoch 42/100\n",
            "1000/1000 [==============================] - 0s 413us/step - loss: 0.0436\n",
            "Epoch 43/100\n",
            "1000/1000 [==============================] - 0s 404us/step - loss: 0.0433\n",
            "Epoch 44/100\n",
            "1000/1000 [==============================] - 0s 403us/step - loss: 0.0431\n",
            "Epoch 45/100\n",
            "1000/1000 [==============================] - 0s 408us/step - loss: 0.0436\n",
            "Epoch 46/100\n",
            "1000/1000 [==============================] - 0s 408us/step - loss: 0.0436\n",
            "Epoch 47/100\n",
            "1000/1000 [==============================] - 0s 419us/step - loss: 0.0447\n",
            "Epoch 48/100\n",
            "1000/1000 [==============================] - 0s 423us/step - loss: 0.0436\n",
            "Epoch 49/100\n",
            "1000/1000 [==============================] - 0s 402us/step - loss: 0.0439\n",
            "Epoch 50/100\n",
            "1000/1000 [==============================] - 0s 419us/step - loss: 0.0433\n",
            "Epoch 51/100\n",
            "1000/1000 [==============================] - 0s 405us/step - loss: 0.0439\n",
            "Epoch 52/100\n",
            "1000/1000 [==============================] - 0s 447us/step - loss: 0.0438\n",
            "Epoch 53/100\n",
            "1000/1000 [==============================] - 0s 419us/step - loss: 0.0436\n",
            "Epoch 54/100\n",
            "1000/1000 [==============================] - 0s 416us/step - loss: 0.0439\n",
            "Epoch 55/100\n",
            "1000/1000 [==============================] - 0s 403us/step - loss: 0.0436\n",
            "Epoch 56/100\n",
            "1000/1000 [==============================] - 0s 409us/step - loss: 0.0437\n",
            "Epoch 57/100\n",
            "1000/1000 [==============================] - 0s 414us/step - loss: 0.0440\n",
            "Epoch 58/100\n",
            "1000/1000 [==============================] - 0s 406us/step - loss: 0.0440\n",
            "Epoch 59/100\n",
            "1000/1000 [==============================] - 0s 407us/step - loss: 0.0428\n",
            "Epoch 60/100\n",
            "1000/1000 [==============================] - 0s 409us/step - loss: 0.0433\n",
            "Epoch 61/100\n",
            "1000/1000 [==============================] - 0s 415us/step - loss: 0.0442\n",
            "Epoch 62/100\n",
            "1000/1000 [==============================] - 0s 414us/step - loss: 0.0434\n",
            "Epoch 63/100\n",
            "1000/1000 [==============================] - 0s 422us/step - loss: 0.0433\n",
            "Epoch 64/100\n",
            "1000/1000 [==============================] - 0s 404us/step - loss: 0.0446\n",
            "Epoch 65/100\n",
            "1000/1000 [==============================] - 0s 402us/step - loss: 0.0434\n",
            "Epoch 66/100\n",
            "1000/1000 [==============================] - 0s 406us/step - loss: 0.0435\n",
            "Epoch 67/100\n",
            "1000/1000 [==============================] - 0s 416us/step - loss: 0.0435\n",
            "Epoch 68/100\n",
            "1000/1000 [==============================] - 0s 414us/step - loss: 0.0440\n",
            "Epoch 69/100\n",
            "1000/1000 [==============================] - 0s 415us/step - loss: 0.0436\n",
            "Epoch 70/100\n",
            "1000/1000 [==============================] - 0s 414us/step - loss: 0.0429\n",
            "Epoch 71/100\n",
            "1000/1000 [==============================] - 0s 417us/step - loss: 0.0428\n",
            "Epoch 72/100\n",
            "1000/1000 [==============================] - 0s 408us/step - loss: 0.0436\n",
            "Epoch 73/100\n",
            "1000/1000 [==============================] - 0s 430us/step - loss: 0.0445\n",
            "Epoch 74/100\n",
            "1000/1000 [==============================] - 0s 439us/step - loss: 0.0436\n",
            "Epoch 75/100\n",
            "1000/1000 [==============================] - 0s 441us/step - loss: 0.0442\n",
            "Epoch 76/100\n",
            "1000/1000 [==============================] - 0s 455us/step - loss: 0.0442\n",
            "Epoch 77/100\n",
            "1000/1000 [==============================] - 0s 447us/step - loss: 0.0439\n",
            "Epoch 78/100\n",
            "1000/1000 [==============================] - 0s 451us/step - loss: 0.0434\n",
            "Epoch 79/100\n",
            "1000/1000 [==============================] - 0s 438us/step - loss: 0.0445\n",
            "Epoch 80/100\n",
            "1000/1000 [==============================] - 0s 443us/step - loss: 0.0437\n",
            "Epoch 81/100\n",
            "1000/1000 [==============================] - 0s 450us/step - loss: 0.0431\n",
            "Epoch 82/100\n",
            "1000/1000 [==============================] - 0s 443us/step - loss: 0.0435\n",
            "Epoch 83/100\n",
            "1000/1000 [==============================] - 0s 443us/step - loss: 0.0447\n",
            "Epoch 84/100\n",
            "1000/1000 [==============================] - 0s 448us/step - loss: 0.0440\n",
            "Epoch 85/100\n",
            "1000/1000 [==============================] - 0s 438us/step - loss: 0.0441\n",
            "Epoch 86/100\n",
            "1000/1000 [==============================] - 0s 438us/step - loss: 0.0438\n",
            "Epoch 87/100\n",
            "1000/1000 [==============================] - 0s 448us/step - loss: 0.0434\n",
            "Epoch 88/100\n",
            "1000/1000 [==============================] - 0s 440us/step - loss: 0.0436\n",
            "Epoch 89/100\n",
            "1000/1000 [==============================] - 0s 431us/step - loss: 0.0434\n",
            "Epoch 90/100\n",
            "1000/1000 [==============================] - 0s 450us/step - loss: 0.0436\n",
            "Epoch 91/100\n",
            "1000/1000 [==============================] - 0s 465us/step - loss: 0.0438\n",
            "Epoch 92/100\n",
            "1000/1000 [==============================] - 0s 439us/step - loss: 0.0439\n",
            "Epoch 93/100\n",
            "1000/1000 [==============================] - 0s 444us/step - loss: 0.0436\n",
            "Epoch 94/100\n",
            "1000/1000 [==============================] - 0s 447us/step - loss: 0.0440\n",
            "Epoch 95/100\n",
            "1000/1000 [==============================] - 0s 455us/step - loss: 0.0432\n",
            "Epoch 96/100\n",
            "1000/1000 [==============================] - 0s 448us/step - loss: 0.0441\n",
            "Epoch 97/100\n",
            "1000/1000 [==============================] - 0s 440us/step - loss: 0.0438\n",
            "Epoch 98/100\n",
            "1000/1000 [==============================] - 0s 418us/step - loss: 0.0436\n",
            "Epoch 99/100\n",
            "1000/1000 [==============================] - 0s 402us/step - loss: 0.0446\n",
            "Epoch 100/100\n",
            "1000/1000 [==============================] - 0s 423us/step - loss: 0.0439\n"
          ],
          "name": "stdout"
        },
        {
          "output_type": "execute_result",
          "data": {
            "text/plain": [
              "<keras.callbacks.History at 0x7f761e41c6a0>"
            ]
          },
          "metadata": {
            "tags": []
          },
          "execution_count": 32
        }
      ]
    },
    {
      "cell_type": "code",
      "metadata": {
        "id": "yLXHd44uJT9m",
        "colab_type": "code",
        "colab": {
          "base_uri": "https://localhost:8080/",
          "height": 34
        },
        "outputId": "f9eeef45-2082-41f5-b0bf-567ff2bf4056"
      },
      "source": [
        "model.get_weights()"
      ],
      "execution_count": 33,
      "outputs": [
        {
          "output_type": "execute_result",
          "data": {
            "text/plain": [
              "[array([[2.9849527]], dtype=float32), array([4.0551195], dtype=float32)]"
            ]
          },
          "metadata": {
            "tags": []
          },
          "execution_count": 33
        }
      ]
    },
    {
      "cell_type": "code",
      "metadata": {
        "id": "SH9giFXZJcGl",
        "colab_type": "code",
        "colab": {
          "base_uri": "https://localhost:8080/",
          "height": 68
        },
        "outputId": "0ad86b14-f522-4afe-e649-423dcb83f6b2"
      },
      "source": [
        "X_test = np.linspace(0, 1, 2, endpoint=True)\n",
        "Y_pre = model.predict(X_test)\n",
        "print(X_test)\n",
        "print(Y_pre)"
      ],
      "execution_count": 38,
      "outputs": [
        {
          "output_type": "stream",
          "text": [
            "[0. 1.]\n",
            "[[4.0551195]\n",
            " [7.0400724]]\n"
          ],
          "name": "stdout"
        }
      ]
    },
    {
      "cell_type": "code",
      "metadata": {
        "id": "7992dc37J1Zy",
        "colab_type": "code",
        "colab": {
          "base_uri": "https://localhost:8080/",
          "height": 269
        },
        "outputId": "55af7447-c49f-4382-f790-5a458db68b43"
      },
      "source": [
        "plt.plot(X.T,y.T,'b.')\n",
        "plt.plot(X_test,Y_pre,'y')\n",
        "plt.show()"
      ],
      "execution_count": 40,
      "outputs": [
        {
          "output_type": "display_data",
          "data": {
            "image/png": "[encoded data removed]",
            "text/plain": [
              "<Figure size 432x288 with 1 Axes>"
            ]
          },
          "metadata": {
            "tags": []
          }
        }
      ]
    },
    {
      "cell_type": "code",
      "metadata": {
        "id": "oeBq1tCOKTaL",
        "colab_type": "code",
        "colab": {}
      },
      "source": [
        ""
      ],
      "execution_count": 0,
      "outputs": []
    }
  ]
}